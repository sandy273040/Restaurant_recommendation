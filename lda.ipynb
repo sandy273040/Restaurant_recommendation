{
  "cells": [
    {
      "cell_type": "markdown",
      "metadata": {
        "id": "view-in-github",
        "colab_type": "text"
      },
      "source": [
        "<a href=\"https://colab.research.google.com/github/sandy273040/Text_Mining/blob/main/lda.ipynb\" target=\"_parent\"><img src=\"https://colab.research.google.com/assets/colab-badge.svg\" alt=\"Open In Colab\"/></a>"
      ]
    },
    {
      "cell_type": "code",
      "execution_count": null,
      "metadata": {
        "colab": {
          "base_uri": "https://localhost:8080/"
        },
        "id": "dsiI3ezpgaY7",
        "outputId": "ed5bed78-6b69-47b9-e1c5-0a94ff602ae9"
      },
      "outputs": [
        {
          "output_type": "stream",
          "name": "stdout",
          "text": [
            "Looking in indexes: https://pypi.org/simple, https://us-python.pkg.dev/colab-wheels/public/simple/\n",
            "Requirement already satisfied: tqdm in /usr/local/lib/python3.8/dist-packages (4.64.1)\n",
            "Requirement already satisfied: requests in /usr/local/lib/python3.8/dist-packages (2.25.1)\n",
            "Requirement already satisfied: multitasking in /usr/local/lib/python3.8/dist-packages (0.0.11)\n",
            "Collecting retry\n",
            "  Downloading retry-0.9.2-py2.py3-none-any.whl (8.0 kB)\n",
            "Requirement already satisfied: bs4 in /usr/local/lib/python3.8/dist-packages (0.0.1)\n",
            "Requirement already satisfied: pandas in /usr/local/lib/python3.8/dist-packages (1.3.5)\n",
            "Requirement already satisfied: numpy in /usr/local/lib/python3.8/dist-packages (1.21.6)\n",
            "Requirement already satisfied: xlrd in /usr/local/lib/python3.8/dist-packages (1.2.0)\n",
            "Requirement already satisfied: openpyxl in /usr/local/lib/python3.8/dist-packages (3.0.10)\n",
            "Requirement already satisfied: urllib3<1.27,>=1.21.1 in /usr/local/lib/python3.8/dist-packages (from requests) (1.24.3)\n",
            "Requirement already satisfied: chardet<5,>=3.0.2 in /usr/local/lib/python3.8/dist-packages (from requests) (4.0.0)\n",
            "Requirement already satisfied: idna<3,>=2.5 in /usr/local/lib/python3.8/dist-packages (from requests) (2.10)\n",
            "Requirement already satisfied: certifi>=2017.4.17 in /usr/local/lib/python3.8/dist-packages (from requests) (2022.12.7)\n",
            "Requirement already satisfied: py<2.0.0,>=1.4.26 in /usr/local/lib/python3.8/dist-packages (from retry) (1.11.0)\n",
            "Requirement already satisfied: decorator>=3.4.2 in /usr/local/lib/python3.8/dist-packages (from retry) (4.4.2)\n",
            "Requirement already satisfied: beautifulsoup4 in /usr/local/lib/python3.8/dist-packages (from bs4) (4.6.3)\n",
            "Requirement already satisfied: python-dateutil>=2.7.3 in /usr/local/lib/python3.8/dist-packages (from pandas) (2.8.2)\n",
            "Requirement already satisfied: pytz>=2017.3 in /usr/local/lib/python3.8/dist-packages (from pandas) (2022.7)\n",
            "Requirement already satisfied: et-xmlfile in /usr/local/lib/python3.8/dist-packages (from openpyxl) (1.1.0)\n",
            "Requirement already satisfied: six>=1.5 in /usr/local/lib/python3.8/dist-packages (from python-dateutil>=2.7.3->pandas) (1.15.0)\n",
            "Installing collected packages: retry\n",
            "Successfully installed retry-0.9.2\n"
          ]
        }
      ],
      "source": [
        "!pip install tqdm requests multitasking retry bs4 pandas numpy xlrd openpyxl"
      ]
    },
    {
      "cell_type": "code",
      "execution_count": null,
      "metadata": {
        "colab": {
          "base_uri": "https://localhost:8080/"
        },
        "id": "C6o2ANz9I27H",
        "outputId": "3eff7e4f-b33c-481f-acce-c7d77a4d66f9"
      },
      "outputs": [
        {
          "output_type": "stream",
          "name": "stdout",
          "text": [
            "Looking in indexes: https://pypi.org/simple, https://us-python.pkg.dev/colab-wheels/public/simple/\n",
            "Collecting pyldavis\n",
            "  Downloading pyLDAvis-3.3.1.tar.gz (1.7 MB)\n",
            "\u001b[2K     \u001b[90m━━━━━━━━━━━━━━━━━━━━━━━━━━━━━━━━━━━━━━━━\u001b[0m \u001b[32m1.7/1.7 MB\u001b[0m \u001b[31m20.8 MB/s\u001b[0m eta \u001b[36m0:00:00\u001b[0m\n",
            "\u001b[?25h  Installing build dependencies ... \u001b[?25l\u001b[?25hdone\n",
            "  Getting requirements to build wheel ... \u001b[?25l\u001b[?25hdone\n",
            "  Installing backend dependencies ... \u001b[?25l\u001b[?25hdone\n",
            "  Preparing metadata (pyproject.toml) ... \u001b[?25l\u001b[?25hdone\n",
            "Requirement already satisfied: jinja2 in /usr/local/lib/python3.8/dist-packages (from pyldavis) (2.11.3)\n",
            "Requirement already satisfied: joblib in /usr/local/lib/python3.8/dist-packages (from pyldavis) (1.2.0)\n",
            "Requirement already satisfied: future in /usr/local/lib/python3.8/dist-packages (from pyldavis) (0.16.0)\n",
            "Requirement already satisfied: numexpr in /usr/local/lib/python3.8/dist-packages (from pyldavis) (2.8.4)\n",
            "Requirement already satisfied: numpy>=1.20.0 in /usr/local/lib/python3.8/dist-packages (from pyldavis) (1.21.6)\n",
            "Requirement already satisfied: scikit-learn in /usr/local/lib/python3.8/dist-packages (from pyldavis) (1.0.2)\n",
            "Requirement already satisfied: setuptools in /usr/local/lib/python3.8/dist-packages (from pyldavis) (57.4.0)\n",
            "Requirement already satisfied: pandas>=1.2.0 in /usr/local/lib/python3.8/dist-packages (from pyldavis) (1.3.5)\n",
            "Requirement already satisfied: scipy in /usr/local/lib/python3.8/dist-packages (from pyldavis) (1.7.3)\n",
            "Collecting sklearn\n",
            "  Downloading sklearn-0.0.post1.tar.gz (3.6 kB)\n",
            "  \u001b[1;31merror\u001b[0m: \u001b[1msubprocess-exited-with-error\u001b[0m\n",
            "  \n",
            "  \u001b[31m×\u001b[0m \u001b[32mpython setup.py egg_info\u001b[0m did not run successfully.\n",
            "  \u001b[31m│\u001b[0m exit code: \u001b[1;36m1\u001b[0m\n",
            "  \u001b[31m╰─>\u001b[0m See above for output.\n",
            "  \n",
            "  \u001b[1;35mnote\u001b[0m: This error originates from a subprocess, and is likely not a problem with pip.\n",
            "  Preparing metadata (setup.py) ... \u001b[?25l\u001b[?25herror\n",
            "\u001b[1;31merror\u001b[0m: \u001b[1mmetadata-generation-failed\u001b[0m\n",
            "\n",
            "\u001b[31m×\u001b[0m Encountered error while generating package metadata.\n",
            "\u001b[31m╰─>\u001b[0m See above for output.\n",
            "\n",
            "\u001b[1;35mnote\u001b[0m: This is an issue with the package mentioned above, not pip.\n",
            "\u001b[1;36mhint\u001b[0m: See above for details.\n"
          ]
        }
      ],
      "source": [
        "!pip install pyldavis"
      ]
    },
    {
      "cell_type": "code",
      "execution_count": null,
      "metadata": {
        "id": "gFvBuhfLjo26"
      },
      "outputs": [],
      "source": [
        "import pandas as pd\n",
        "import numpy as np\n",
        "import pickle\n",
        "import itertools\n",
        "from collections import Counter\n",
        "from nltk.util import ngrams\n",
        "from gensim import corpora\n",
        "from gensim import models\n",
        "from gensim import similarities"
      ]
    },
    {
      "cell_type": "markdown",
      "metadata": {
        "id": "Pfdsrr5Yjt9B"
      },
      "source": [
        "###Preprocessing"
      ]
    },
    {
      "cell_type": "code",
      "execution_count": null,
      "metadata": {
        "colab": {
          "base_uri": "https://localhost:8080/"
        },
        "id": "PV9UKOJ7j0n_",
        "outputId": "2e6bcc51-c1e6-450c-f039-8e0228960081"
      },
      "outputs": [
        {
          "output_type": "stream",
          "name": "stdout",
          "text": [
            "Mounted at /content/drive\n"
          ]
        }
      ],
      "source": [
        "from google.colab import drive\n",
        "drive.mount('/content/drive')"
      ]
    },
    {
      "cell_type": "markdown",
      "metadata": {
        "id": "YctpRJKSyeSU"
      },
      "source": [
        "###Read File"
      ]
    },
    {
      "cell_type": "code",
      "source": [
        "import os\n",
        "path = os.path.abspath(os.getcwd())\n",
        "restaurant_df = pd.read_csv(path + '/drive/Shareddrives/文字探勘/final_project/restaurant_final_df.csv', index_col=[0])\n",
        "restaurant_df"
      ],
      "metadata": {
        "colab": {
          "base_uri": "https://localhost:8080/",
          "height": 424
        },
        "id": "TSEFGMZcUvvf",
        "outputId": "8f6a320f-1ba2-4620-9f83-31798b2ffb09"
      },
      "execution_count": null,
      "outputs": [
        {
          "output_type": "execute_result",
          "data": {
            "text/plain": [
              "     restaurant_id      restaurant_name  length  ave_rating  comment_amount  \\\n",
              "0                0             茱莉金牛排餐酒館     634         4.5             967   \n",
              "1                1    Okaeri お帰り 你回來啦拉麵     840         4.3            2769   \n",
              "2                2    和牛涮 日式鍋物放題 台北忠孝東店     840         4.8           21588   \n",
              "3                3          狗一下居食酒屋 忠孝店     840         4.8           18200   \n",
              "4                4               蘇阿姨比薩屋     840         4.1            8271   \n",
              "..             ...                  ...     ...         ...             ...   \n",
              "101            101                北門鳳李冰     840         4.6            2279   \n",
              "102            102          蛤?! Huh Pot     840         4.8            4614   \n",
              "103            103              小李子清粥小菜     840         3.8            5029   \n",
              "104            104            温州街蘿蔔絲餅達人     840         4.2            4100   \n",
              "105            105  舒服生活Truffles Living     445         4.2             644   \n",
              "\n",
              "     topic_id                                        topic_words  \n",
              "0          26  ['\"牛排\" ', '\"服務\" ', '\"龍蝦\" ', '\"用餐\" ', '\"餐點\" ', ...  \n",
              "1          28  ['\"拉麵\" ', '\"湯頭\" ', '\"豚骨\" ', '\"叉燒\" ', '\"味道\" ', ...  \n",
              "2          17  ['\"服務\" ', '\"新鮮\" ', '\"用餐\" ', '\"店員\" ', '\"態度\" ', ...  \n",
              "3          17  ['\"服務\" ', '\"新鮮\" ', '\"用餐\" ', '\"店員\" ', '\"態度\" ', ...  \n",
              "4          32  ['\"炸雞\" ', '\"小籠包\" ', '\"披薩\" ', '\"服務\" ', '\"湯包\" ',...  \n",
              "..        ...                                                ...  \n",
              "101        34  ['\"芋頭\" ', '\"花生\" ', '\"鳳梨\" ', '\"古早味\" ', '\"冰品\" ',...  \n",
              "102        23  ['\"粉圓\" ', '\"蛤蜊\" ', '\"糖水\" ', '\"新鮮\" ', '\"服務\" ', ...  \n",
              "103        37  ['\"服務\" ', '\"餐點\" ', '\"用餐\" ', '\"菜色\" ', '\"選擇\" ', ...  \n",
              "104        30  ['\"蘿蔔絲\" ', '\"蘿蔔絲餅\" ', '\"排隊\" ', '\"提供\" ', '\"蔥油餅\"...  \n",
              "105         3  ['\"服務\" ', '\"餐點\" ', '\"用餐\" ', '\"餐廳\" ', '\"環境\" ', ...  \n",
              "\n",
              "[106 rows x 7 columns]"
            ],
            "text/html": [
              "\n",
              "  <div id=\"df-d9299c34-4271-4a96-b944-222b9d310163\">\n",
              "    <div class=\"colab-df-container\">\n",
              "      <div>\n",
              "<style scoped>\n",
              "    .dataframe tbody tr th:only-of-type {\n",
              "        vertical-align: middle;\n",
              "    }\n",
              "\n",
              "    .dataframe tbody tr th {\n",
              "        vertical-align: top;\n",
              "    }\n",
              "\n",
              "    .dataframe thead th {\n",
              "        text-align: right;\n",
              "    }\n",
              "</style>\n",
              "<table border=\"1\" class=\"dataframe\">\n",
              "  <thead>\n",
              "    <tr style=\"text-align: right;\">\n",
              "      <th></th>\n",
              "      <th>restaurant_id</th>\n",
              "      <th>restaurant_name</th>\n",
              "      <th>length</th>\n",
              "      <th>ave_rating</th>\n",
              "      <th>comment_amount</th>\n",
              "      <th>topic_id</th>\n",
              "      <th>topic_words</th>\n",
              "    </tr>\n",
              "  </thead>\n",
              "  <tbody>\n",
              "    <tr>\n",
              "      <th>0</th>\n",
              "      <td>0</td>\n",
              "      <td>茱莉金牛排餐酒館</td>\n",
              "      <td>634</td>\n",
              "      <td>4.5</td>\n",
              "      <td>967</td>\n",
              "      <td>26</td>\n",
              "      <td>['\"牛排\" ', '\"服務\" ', '\"龍蝦\" ', '\"用餐\" ', '\"餐點\" ', ...</td>\n",
              "    </tr>\n",
              "    <tr>\n",
              "      <th>1</th>\n",
              "      <td>1</td>\n",
              "      <td>Okaeri お帰り 你回來啦拉麵</td>\n",
              "      <td>840</td>\n",
              "      <td>4.3</td>\n",
              "      <td>2769</td>\n",
              "      <td>28</td>\n",
              "      <td>['\"拉麵\" ', '\"湯頭\" ', '\"豚骨\" ', '\"叉燒\" ', '\"味道\" ', ...</td>\n",
              "    </tr>\n",
              "    <tr>\n",
              "      <th>2</th>\n",
              "      <td>2</td>\n",
              "      <td>和牛涮 日式鍋物放題 台北忠孝東店</td>\n",
              "      <td>840</td>\n",
              "      <td>4.8</td>\n",
              "      <td>21588</td>\n",
              "      <td>17</td>\n",
              "      <td>['\"服務\" ', '\"新鮮\" ', '\"用餐\" ', '\"店員\" ', '\"態度\" ', ...</td>\n",
              "    </tr>\n",
              "    <tr>\n",
              "      <th>3</th>\n",
              "      <td>3</td>\n",
              "      <td>狗一下居食酒屋 忠孝店</td>\n",
              "      <td>840</td>\n",
              "      <td>4.8</td>\n",
              "      <td>18200</td>\n",
              "      <td>17</td>\n",
              "      <td>['\"服務\" ', '\"新鮮\" ', '\"用餐\" ', '\"店員\" ', '\"態度\" ', ...</td>\n",
              "    </tr>\n",
              "    <tr>\n",
              "      <th>4</th>\n",
              "      <td>4</td>\n",
              "      <td>蘇阿姨比薩屋</td>\n",
              "      <td>840</td>\n",
              "      <td>4.1</td>\n",
              "      <td>8271</td>\n",
              "      <td>32</td>\n",
              "      <td>['\"炸雞\" ', '\"小籠包\" ', '\"披薩\" ', '\"服務\" ', '\"湯包\" ',...</td>\n",
              "    </tr>\n",
              "    <tr>\n",
              "      <th>...</th>\n",
              "      <td>...</td>\n",
              "      <td>...</td>\n",
              "      <td>...</td>\n",
              "      <td>...</td>\n",
              "      <td>...</td>\n",
              "      <td>...</td>\n",
              "      <td>...</td>\n",
              "    </tr>\n",
              "    <tr>\n",
              "      <th>101</th>\n",
              "      <td>101</td>\n",
              "      <td>北門鳳李冰</td>\n",
              "      <td>840</td>\n",
              "      <td>4.6</td>\n",
              "      <td>2279</td>\n",
              "      <td>34</td>\n",
              "      <td>['\"芋頭\" ', '\"花生\" ', '\"鳳梨\" ', '\"古早味\" ', '\"冰品\" ',...</td>\n",
              "    </tr>\n",
              "    <tr>\n",
              "      <th>102</th>\n",
              "      <td>102</td>\n",
              "      <td>蛤?! Huh Pot</td>\n",
              "      <td>840</td>\n",
              "      <td>4.8</td>\n",
              "      <td>4614</td>\n",
              "      <td>23</td>\n",
              "      <td>['\"粉圓\" ', '\"蛤蜊\" ', '\"糖水\" ', '\"新鮮\" ', '\"服務\" ', ...</td>\n",
              "    </tr>\n",
              "    <tr>\n",
              "      <th>103</th>\n",
              "      <td>103</td>\n",
              "      <td>小李子清粥小菜</td>\n",
              "      <td>840</td>\n",
              "      <td>3.8</td>\n",
              "      <td>5029</td>\n",
              "      <td>37</td>\n",
              "      <td>['\"服務\" ', '\"餐點\" ', '\"用餐\" ', '\"菜色\" ', '\"選擇\" ', ...</td>\n",
              "    </tr>\n",
              "    <tr>\n",
              "      <th>104</th>\n",
              "      <td>104</td>\n",
              "      <td>温州街蘿蔔絲餅達人</td>\n",
              "      <td>840</td>\n",
              "      <td>4.2</td>\n",
              "      <td>4100</td>\n",
              "      <td>30</td>\n",
              "      <td>['\"蘿蔔絲\" ', '\"蘿蔔絲餅\" ', '\"排隊\" ', '\"提供\" ', '\"蔥油餅\"...</td>\n",
              "    </tr>\n",
              "    <tr>\n",
              "      <th>105</th>\n",
              "      <td>105</td>\n",
              "      <td>舒服生活Truffles Living</td>\n",
              "      <td>445</td>\n",
              "      <td>4.2</td>\n",
              "      <td>644</td>\n",
              "      <td>3</td>\n",
              "      <td>['\"服務\" ', '\"餐點\" ', '\"用餐\" ', '\"餐廳\" ', '\"環境\" ', ...</td>\n",
              "    </tr>\n",
              "  </tbody>\n",
              "</table>\n",
              "<p>106 rows × 7 columns</p>\n",
              "</div>\n",
              "      <button class=\"colab-df-convert\" onclick=\"convertToInteractive('df-d9299c34-4271-4a96-b944-222b9d310163')\"\n",
              "              title=\"Convert this dataframe to an interactive table.\"\n",
              "              style=\"display:none;\">\n",
              "        \n",
              "  <svg xmlns=\"http://www.w3.org/2000/svg\" height=\"24px\"viewBox=\"0 0 24 24\"\n",
              "       width=\"24px\">\n",
              "    <path d=\"M0 0h24v24H0V0z\" fill=\"none\"/>\n",
              "    <path d=\"M18.56 5.44l.94 2.06.94-2.06 2.06-.94-2.06-.94-.94-2.06-.94 2.06-2.06.94zm-11 1L8.5 8.5l.94-2.06 2.06-.94-2.06-.94L8.5 2.5l-.94 2.06-2.06.94zm10 10l.94 2.06.94-2.06 2.06-.94-2.06-.94-.94-2.06-.94 2.06-2.06.94z\"/><path d=\"M17.41 7.96l-1.37-1.37c-.4-.4-.92-.59-1.43-.59-.52 0-1.04.2-1.43.59L10.3 9.45l-7.72 7.72c-.78.78-.78 2.05 0 2.83L4 21.41c.39.39.9.59 1.41.59.51 0 1.02-.2 1.41-.59l7.78-7.78 2.81-2.81c.8-.78.8-2.07 0-2.86zM5.41 20L4 18.59l7.72-7.72 1.47 1.35L5.41 20z\"/>\n",
              "  </svg>\n",
              "      </button>\n",
              "      \n",
              "  <style>\n",
              "    .colab-df-container {\n",
              "      display:flex;\n",
              "      flex-wrap:wrap;\n",
              "      gap: 12px;\n",
              "    }\n",
              "\n",
              "    .colab-df-convert {\n",
              "      background-color: #E8F0FE;\n",
              "      border: none;\n",
              "      border-radius: 50%;\n",
              "      cursor: pointer;\n",
              "      display: none;\n",
              "      fill: #1967D2;\n",
              "      height: 32px;\n",
              "      padding: 0 0 0 0;\n",
              "      width: 32px;\n",
              "    }\n",
              "\n",
              "    .colab-df-convert:hover {\n",
              "      background-color: #E2EBFA;\n",
              "      box-shadow: 0px 1px 2px rgba(60, 64, 67, 0.3), 0px 1px 3px 1px rgba(60, 64, 67, 0.15);\n",
              "      fill: #174EA6;\n",
              "    }\n",
              "\n",
              "    [theme=dark] .colab-df-convert {\n",
              "      background-color: #3B4455;\n",
              "      fill: #D2E3FC;\n",
              "    }\n",
              "\n",
              "    [theme=dark] .colab-df-convert:hover {\n",
              "      background-color: #434B5C;\n",
              "      box-shadow: 0px 1px 3px 1px rgba(0, 0, 0, 0.15);\n",
              "      filter: drop-shadow(0px 1px 2px rgba(0, 0, 0, 0.3));\n",
              "      fill: #FFFFFF;\n",
              "    }\n",
              "  </style>\n",
              "\n",
              "      <script>\n",
              "        const buttonEl =\n",
              "          document.querySelector('#df-d9299c34-4271-4a96-b944-222b9d310163 button.colab-df-convert');\n",
              "        buttonEl.style.display =\n",
              "          google.colab.kernel.accessAllowed ? 'block' : 'none';\n",
              "\n",
              "        async function convertToInteractive(key) {\n",
              "          const element = document.querySelector('#df-d9299c34-4271-4a96-b944-222b9d310163');\n",
              "          const dataTable =\n",
              "            await google.colab.kernel.invokeFunction('convertToInteractive',\n",
              "                                                     [key], {});\n",
              "          if (!dataTable) return;\n",
              "\n",
              "          const docLinkHtml = 'Like what you see? Visit the ' +\n",
              "            '<a target=\"_blank\" href=https://colab.research.google.com/notebooks/data_table.ipynb>data table notebook</a>'\n",
              "            + ' to learn more about interactive tables.';\n",
              "          element.innerHTML = '';\n",
              "          dataTable['output_type'] = 'display_data';\n",
              "          await google.colab.output.renderOutput(dataTable, element);\n",
              "          const docLink = document.createElement('div');\n",
              "          docLink.innerHTML = docLinkHtml;\n",
              "          element.appendChild(docLink);\n",
              "        }\n",
              "      </script>\n",
              "    </div>\n",
              "  </div>\n",
              "  "
            ]
          },
          "metadata": {},
          "execution_count": 5
        }
      ]
    },
    {
      "cell_type": "markdown",
      "metadata": {
        "id": "ym1rj2lozQnh"
      },
      "source": [
        "###Vectorization"
      ]
    },
    {
      "cell_type": "code",
      "source": [
        "comments = pickle.load(open(path+'/drive/Shareddrives/文字探勘/final_project/Django/comments_final', 'rb'))"
      ],
      "metadata": {
        "id": "V6I_1xEGx9cU"
      },
      "execution_count": null,
      "outputs": []
    },
    {
      "cell_type": "code",
      "source": [
        "dictionary = corpora.Dictionary(comments)\n",
        "corpus = [dictionary.doc2bow(doc, allow_update=True) for doc in comments]\n",
        "# for doc in corpus:\n",
        "#    print([[dictionary[id], freq] for id, freq in doc])"
      ],
      "metadata": {
        "id": "D4S4uwct1Xls"
      },
      "execution_count": null,
      "outputs": []
    },
    {
      "cell_type": "code",
      "source": [
        "model = models.TfidfModel(corpus, id2word = dictionary)#smartirs='ntc', "
      ],
      "metadata": {
        "id": "EheFJGR0OCXt"
      },
      "execution_count": null,
      "outputs": []
    },
    {
      "cell_type": "code",
      "source": [
        "#filter low tfidf word\n",
        "low_value = 0.025\n",
        "\n",
        "for i in range(0, len(corpus)):\n",
        "    bow = corpus[i]\n",
        "    low_value_words = [] #reinitialize to be safe. You can skip this.\n",
        "    low_value_words = [id for id, value in model[bow] if value < low_value]\n",
        "    new_bow = [b for b in bow if b[0] not in low_value_words]\n",
        "\n",
        "    #reassign        \n",
        "    corpus[i] = new_bow"
      ],
      "metadata": {
        "id": "uX4QysMduZQF"
      },
      "execution_count": null,
      "outputs": []
    },
    {
      "cell_type": "code",
      "source": [
        "word = list()\n",
        "rest_word = list()\n",
        "for doc in model[corpus]:#document tfidf vector\n",
        "  # print([(dictionary[id], freq) for id, freq in doc])\n",
        "  word.append([dictionary[id] for id, freq in doc])\n",
        "  rest_word.append([freq for id, freq in doc])"
      ],
      "metadata": {
        "id": "KkCB_78hP50L"
      },
      "execution_count": null,
      "outputs": []
    },
    {
      "cell_type": "code",
      "source": [
        "tfidf = model[corpus]\n",
        "tfidf"
      ],
      "metadata": {
        "colab": {
          "base_uri": "https://localhost:8080/"
        },
        "id": "a6YDcIDYOTd6",
        "outputId": "288685e7-a048-4704-8a46-c9ca41524cad"
      },
      "execution_count": null,
      "outputs": [
        {
          "output_type": "execute_result",
          "data": {
            "text/plain": [
              "<gensim.interfaces.TransformedCorpus at 0x7f5059b96d60>"
            ]
          },
          "metadata": {},
          "execution_count": 11
        }
      ]
    },
    {
      "cell_type": "markdown",
      "metadata": {
        "id": "aoLsw9HI0qi2"
      },
      "source": [
        "###LDA"
      ]
    },
    {
      "cell_type": "markdown",
      "source": [
        "####Compute coherence score to determine number of topics"
      ],
      "metadata": {
        "id": "VxLgbHzfK6fF"
      }
    },
    {
      "cell_type": "code",
      "source": [
        "lda = models.LdaModel(corpus=corpus, id2word=dictionary, num_topics=25, passes=20)#好吃、可以、非常、不錯、真的\n",
        "topic_list = lda.print_topics(25)"
      ],
      "metadata": {
        "id": "yRdH6XQjmdI9"
      },
      "execution_count": null,
      "outputs": []
    },
    {
      "cell_type": "code",
      "source": [
        "def get_topic_word(topic_list):\n",
        "  '''\n",
        "  input: top 10 word distribution of each topic\n",
        "  output: formatted topic-word distribution using dictionary\n",
        "  '''\n",
        "  topic_words = dict()\n",
        "  for topic_id, topic_word in enumerate(topic_list):\n",
        "    topic_words[topic_id] = [item.split('*')[1] for item in topic_word[1].split('+')]\n",
        "    # print(' '.join([item.split('*')[1] for item in i[1].split('+')]))\n",
        "  return topic_words"
      ],
      "metadata": {
        "id": "2HjxIJIsxzgw"
      },
      "execution_count": null,
      "outputs": []
    },
    {
      "cell_type": "code",
      "source": [
        "topic_words = get_topic_word(topic_list)\n",
        "topic_words"
      ],
      "metadata": {
        "colab": {
          "base_uri": "https://localhost:8080/"
        },
        "id": "qHiwCVRfx5ic",
        "outputId": "bc34dd64-169a-4273-ba82-bd5133846029"
      },
      "execution_count": null,
      "outputs": [
        {
          "output_type": "execute_result",
          "data": {
            "text/plain": [
              "{0: ['\"蛋糕\" ',\n",
              "  '\"服務\" ',\n",
              "  '\"草莓\" ',\n",
              "  '\"檸檬\" ',\n",
              "  '\"店員\" ',\n",
              "  '\"甜點\" ',\n",
              "  '\"喜歡\" ',\n",
              "  '\"大理石\" ',\n",
              "  '\"態度\" ',\n",
              "  '\"奶油\"'],\n",
              " 1: ['\"酸菜\" ',\n",
              "  '\"服務\" ',\n",
              "  '\"蔥油餅\" ',\n",
              "  '\"餐廳\" ',\n",
              "  '\"味道\" ',\n",
              "  '\"白肉鍋\" ',\n",
              "  '\"用餐\" ',\n",
              "  '\"推薦\" ',\n",
              "  '\"起司\" ',\n",
              "  '\"喜歡\"'],\n",
              " 2: ['\"蘿蔔絲\" ',\n",
              "  '\"蘿蔔絲餅\" ',\n",
              "  '\"排隊\" ',\n",
              "  '\"蔥油餅\" ',\n",
              "  '\"蛋餅\" ',\n",
              "  '\"內餡\" ',\n",
              "  '\"味道\" ',\n",
              "  '\"餅皮\" ',\n",
              "  '\"蘿蔔\" ',\n",
              "  '\"豆沙餅\"'],\n",
              " 3: ['\"牛排\" ',\n",
              "  '\"服務\" ',\n",
              "  '\"餐點\" ',\n",
              "  '\"用餐\" ',\n",
              "  '\"龍蝦\" ',\n",
              "  '\"餐廳\" ',\n",
              "  '\"麵包\" ',\n",
              "  '\"環境\" ',\n",
              "  '\"推薦\" ',\n",
              "  '\"沙拉\"'],\n",
              " 4: ['\"牛肉麵\" ',\n",
              "  '\"味道\" ',\n",
              "  '\"價格\" ',\n",
              "  '\"湯頭\" ',\n",
              "  '\"牛肉\" ',\n",
              "  '\"小菜\" ',\n",
              "  '\"紅燒\" ',\n",
              "  '\"服務\" ',\n",
              "  '\"粉蒸\" ',\n",
              "  '\"蛤蜊\"'],\n",
              " 5: ['\"餐點\" ',\n",
              "  '\"鬆餅\" ',\n",
              "  '\"環境\" ',\n",
              "  '\"咖啡\" ',\n",
              "  '\"舒芙蕾\" ',\n",
              "  '\"服務\" ',\n",
              "  '\"適合\" ',\n",
              "  '\"味道\" ',\n",
              "  '\"店員\" ',\n",
              "  '\"喜歡\"'],\n",
              " 6: ['\"炸雞\" ',\n",
              "  '\"韓式\" ',\n",
              "  '\"店員\" ',\n",
              "  '\"年糕\" ',\n",
              "  '\"服務\" ',\n",
              "  '\"態度\" ',\n",
              "  '\"韓國\" ',\n",
              "  '\"洋釀\" ',\n",
              "  '\"原味\" ',\n",
              "  '\"時間\"'],\n",
              " 7: ['\"服務\" ',\n",
              "  '\"壽司\" ',\n",
              "  '\"用餐\" ',\n",
              "  '\"夜市\" ',\n",
              "  '\"和牛\" ',\n",
              "  '\"新鮮\" ',\n",
              "  '\"選擇\" ',\n",
              "  '\"品質\" ',\n",
              "  '\"肉質\" ',\n",
              "  '\"價位\"'],\n",
              " 8: ['\"套餐\" ',\n",
              "  '\"服務\" ',\n",
              "  '\"餐點\" ',\n",
              "  '\"雙人\" ',\n",
              "  '\"用餐\" ',\n",
              "  '\"份量\" ',\n",
              "  '\"味道\" ',\n",
              "  '\"菜色\" ',\n",
              "  '\"推薦\" ',\n",
              "  '\"餐廳\"'],\n",
              " 9: ['\"市場\" ',\n",
              "  '\"南門\" ',\n",
              "  '\"乾淨\" ',\n",
              "  '\"二樓\" ',\n",
              "  '\"美食\" ',\n",
              "  '\"中繼\" ',\n",
              "  '\"熟食\" ',\n",
              "  '\"環境\" ',\n",
              "  '\"一樓\" ',\n",
              "  '\"東西\"'],\n",
              " 10: ['\"貓咪\" ',\n",
              "  '\"餐點\" ',\n",
              "  '\"貓貓\" ',\n",
              "  '\"水波蛋\" ',\n",
              "  '\"環境\" ',\n",
              "  '\"炸雞\" ',\n",
              "  '\"份量\" ',\n",
              "  '\"食物\" ',\n",
              "  '\"店員\" ',\n",
              "  '\"親人\"'],\n",
              " 11: ['\"拉麵\" ',\n",
              "  '\"味道\" ',\n",
              "  '\"湯頭\" ',\n",
              "  '\"豚骨\" ',\n",
              "  '\"叉燒\" ',\n",
              "  '\"排隊\" ',\n",
              "  '\"喜歡\" ',\n",
              "  '\"餐點\" ',\n",
              "  '\"服務\" ',\n",
              "  '\"份量\"'],\n",
              " 12: ['\"服務\" ',\n",
              "  '\"新鮮\" ',\n",
              "  '\"海鮮\" ',\n",
              "  '\"湯頭\" ',\n",
              "  '\"用餐\" ',\n",
              "  '\"親切\" ',\n",
              "  '\"火鍋\" ',\n",
              "  '\"湯底\" ',\n",
              "  '\"推薦\" ',\n",
              "  '\"態度\"'],\n",
              " 13: ['\"雞湯\" ',\n",
              "  '\"服務\" ',\n",
              "  '\"小籠包\" ',\n",
              "  '\"味道\" ',\n",
              "  '\"餐點\" ',\n",
              "  '\"湯包\" ',\n",
              "  '\"用餐\" ',\n",
              "  '\"環境\" ',\n",
              "  '\"餐廳\" ',\n",
              "  '\"鼎泰豐\"'],\n",
              " 14: ['\"服務\" ',\n",
              "  '\"店員\" ',\n",
              "  '\"用餐\" ',\n",
              "  '\"新鮮\" ',\n",
              "  '\"態度\" ',\n",
              "  '\"親切\" ',\n",
              "  '\"東西\" ',\n",
              "  '\"品質\" ',\n",
              "  '\"客人\" ',\n",
              "  '\"肉質\"'],\n",
              " 15: ['\"拉麵\" ',\n",
              "  '\"柑橘\" ',\n",
              "  '\"湯頭\" ',\n",
              "  '\"味道\" ',\n",
              "  '\"義大利麵\" ',\n",
              "  '\"服務\" ',\n",
              "  '\"喜歡\" ',\n",
              "  '\"蛤蜊\" ',\n",
              "  '\"叉燒\" ',\n",
              "  '\"用餐\"'],\n",
              " 16: ['\"餐點\" ',\n",
              "  '\"服務\" ',\n",
              "  '\"用餐\" ',\n",
              "  '\"份量\" ',\n",
              "  '\"餐廳\" ',\n",
              "  '\"味道\" ',\n",
              "  '\"推薦\" ',\n",
              "  '\"環境\" ',\n",
              "  '\"店員\" ',\n",
              "  '\"適合\"'],\n",
              " 17: ['\"甜點\" ',\n",
              "  '\"蛋糕\" ',\n",
              "  '\"芒果\" ',\n",
              "  '\"服務\" ',\n",
              "  '\"味道\" ',\n",
              "  '\"價格\" ',\n",
              "  '\"聖多諾黑\" ',\n",
              "  '\"喜歡\" ',\n",
              "  '\"法式\" ',\n",
              "  '\"店員\"'],\n",
              " 18: ['\"湯圓\" ',\n",
              "  '\"芋頭\" ',\n",
              "  '\"花生\" ',\n",
              "  '\"粉圓\" ',\n",
              "  '\"牛奶\" ',\n",
              "  '\"東區\" ',\n",
              "  '\"味道\" ',\n",
              "  '\"紅豆\" ',\n",
              "  '\"冰品\" ',\n",
              "  '\"價格\"'],\n",
              " 19: ['\"服務\" ',\n",
              "  '\"餐點\" ',\n",
              "  '\"用餐\" ',\n",
              "  '\"店員\" ',\n",
              "  '\"味道\" ',\n",
              "  '\"態度\" ',\n",
              "  '\"環境\" ',\n",
              "  '\"適合\" ',\n",
              "  '\"食物\" ',\n",
              "  '\"親切\"'],\n",
              " 20: ['\"咖哩\" ',\n",
              "  '\"漢堡排\" ',\n",
              "  '\"炸雞\" ',\n",
              "  '\"味道\" ',\n",
              "  '\"披薩\" ',\n",
              "  '\"起司\" ',\n",
              "  '\"服務\" ',\n",
              "  '\"咖喱\" ',\n",
              "  '\"店員\" ',\n",
              "  '\"用餐\"'],\n",
              " 21: ['\"服務\" ',\n",
              "  '\"用餐\" ',\n",
              "  '\"餐點\" ',\n",
              "  '\"甜點\" ',\n",
              "  '\"新鮮\" ',\n",
              "  '\"菜色\" ',\n",
              "  '\"生魚片\" ',\n",
              "  '\"食物\" ',\n",
              "  '\"餐廳\" ',\n",
              "  '\"海鮮\"'],\n",
              " 22: ['\"鴨血\" ',\n",
              "  '\"服務\" ',\n",
              "  '\"麻辣\" ',\n",
              "  '\"麻辣鍋\" ',\n",
              "  '\"豆腐\" ',\n",
              "  '\"湯頭\" ',\n",
              "  '\"湯底\" ',\n",
              "  '\"用餐\" ',\n",
              "  '\"鍋底\" ',\n",
              "  '\"火鍋\"'],\n",
              " 23: ['\"味道\" ',\n",
              "  '\"服務\" ',\n",
              "  '\"湯頭\" ',\n",
              "  '\"餐點\" ',\n",
              "  '\"推薦\" ',\n",
              "  '\"用餐\" ',\n",
              "  '\"喜歡\" ',\n",
              "  '\"拉麵\" ',\n",
              "  '\"選擇\" ',\n",
              "  '\"咖哩\"'],\n",
              " 24: ['\"餐點\" ',\n",
              "  '\"服務\" ',\n",
              "  '\"義大利麵\" ',\n",
              "  '\"燉飯\" ',\n",
              "  '\"味道\" ',\n",
              "  '\"用餐\" ',\n",
              "  '\"適合\" ',\n",
              "  '\"份量\" ',\n",
              "  '\"環境\" ',\n",
              "  '\"推薦\"']}"
            ]
          },
          "metadata": {},
          "execution_count": 14
        }
      ]
    },
    {
      "cell_type": "markdown",
      "metadata": {
        "id": "zk9JdvvXCSj8"
      },
      "source": [
        "###Compute cosine similarity among each of the two restaurants"
      ]
    },
    {
      "cell_type": "code",
      "source": [
        "index = gensim.similarities.MatrixSimilarity(model[corpus])#lda[corpus] returns topic distribution for each doc; model[corpus] reutrns tfidf vector for each doc"
      ],
      "metadata": {
        "id": "szehzGKhp-FM",
        "colab": {
          "base_uri": "https://localhost:8080/",
          "height": 185
        },
        "outputId": "2cbeafe2-00e6-4a0a-a323-dc57ff3c559e"
      },
      "execution_count": null,
      "outputs": [
        {
          "output_type": "error",
          "ename": "NameError",
          "evalue": "ignored",
          "traceback": [
            "\u001b[0;31m---------------------------------------------------------------------------\u001b[0m",
            "\u001b[0;31mNameError\u001b[0m                                 Traceback (most recent call last)",
            "\u001b[0;32m<ipython-input-17-4ba2ceac69b5>\u001b[0m in \u001b[0;36m<module>\u001b[0;34m\u001b[0m\n\u001b[0;32m----> 1\u001b[0;31m \u001b[0mindex\u001b[0m \u001b[0;34m=\u001b[0m \u001b[0mgensim\u001b[0m\u001b[0;34m.\u001b[0m\u001b[0msimilarities\u001b[0m\u001b[0;34m.\u001b[0m\u001b[0mMatrixSimilarity\u001b[0m\u001b[0;34m(\u001b[0m\u001b[0mmodel\u001b[0m\u001b[0;34m[\u001b[0m\u001b[0mcorpus\u001b[0m\u001b[0;34m]\u001b[0m\u001b[0;34m)\u001b[0m\u001b[0;31m#lda[corpus] returns topic distribution for each doc; model[corpus] reutrns tfidf vector for each doc\u001b[0m\u001b[0;34m\u001b[0m\u001b[0;34m\u001b[0m\u001b[0m\n\u001b[0m",
            "\u001b[0;31mNameError\u001b[0m: name 'gensim' is not defined"
          ]
        }
      ]
    },
    {
      "cell_type": "markdown",
      "source": [
        "####Load similarity index"
      ],
      "metadata": {
        "id": "TP2jR7yad4Tk"
      }
    },
    {
      "cell_type": "code",
      "source": [
        "index = pickle.load(open('/content/drive/Shareddrives/文字探勘/final_project/Django/similarity.pkl','rb'))"
      ],
      "metadata": {
        "id": "ZlT9NC8QDV_F"
      },
      "execution_count": null,
      "outputs": []
    },
    {
      "cell_type": "markdown",
      "source": [
        "###Restaurant ranking based on a given topic keyword"
      ],
      "metadata": {
        "id": "iz-nPPxZg4wW"
      }
    },
    {
      "cell_type": "code",
      "source": [
        "input_keyword = \"正餐 日式 生魚片 評價\""
      ],
      "metadata": {
        "id": "3HM7zwPkg4JB"
      },
      "execution_count": null,
      "outputs": []
    },
    {
      "cell_type": "code",
      "source": [
        "def preprocess_input(input_keyword):\n",
        "  to_token = input_keyword.split()\n",
        "  bow_vector = dictionary.doc2bow(to_token)\n",
        "  bow_vector_ordered = sorted(bow_vector, key=lambda x: x[1], reverse=True)# returns (word id, freq of word)\n",
        "  # print(bow_vector_ordered[:10])\n",
        "  topic_distrib = lda[bow_vector_ordered]#topic distribution of the input_keyword\n",
        "  # print(topic_distrib)\n",
        "\n",
        "  return bow_vector_ordered"
      ],
      "metadata": {
        "id": "2hGCVtSwpD7E"
      },
      "execution_count": null,
      "outputs": []
    },
    {
      "cell_type": "code",
      "source": [
        "def retrieve(preference):\n",
        "  '''\n",
        "  input: latent preference vector\n",
        "  output: top five similar restaurants\n",
        "  '''\n",
        "  sims = index[preference]\n",
        "  recommended_rest_id = sims.argsort()[-2:-7:-1]\n",
        "\n",
        "  recommended = [restaurant_df[restaurant_df['restaurant_id'] == id]['restaurant_name'].tolist()[0] for id in recommended_rest_id]#retrieve five restaurants\n",
        "\n",
        "  #Sorting by ave_rating\n",
        "  recommended_ordered_index = np.argsort([restaurant_df[restaurant_df['restaurant_name'] == restaurant]['ave_rating'].tolist()[0] for restaurant in recommended])\n",
        "  if len(recommended_ordered_index) > 5: recommended_ordered_index = recommended_ordered_index[:5]\n",
        "  recommended = [recommended[i] for i in recommended_ordered_index]\n",
        "  return recommended"
      ],
      "metadata": {
        "id": "exx-4yg547GQ"
      },
      "execution_count": null,
      "outputs": []
    },
    {
      "cell_type": "code",
      "source": [
        "input_vector = preprocess_input(input_keyword)\n",
        "print('Top relevant restaurants', '-----', retrieve(input_vector), sep='\\n')"
      ],
      "metadata": {
        "colab": {
          "base_uri": "https://localhost:8080/"
        },
        "id": "kuuYSbR9AGfp",
        "outputId": "198931e9-82d1-4583-d93c-077d1b56551a"
      },
      "execution_count": null,
      "outputs": [
        {
          "output_type": "stream",
          "name": "stdout",
          "text": [
            "Top relevant restaurants\n",
            "-----\n",
            "['惡犬食堂', '彩虹座Buffet (福華大飯店)', '漢來海港 敦化店', '遠東Café (香格里拉遠東飯店)', '青田七六']\n"
          ]
        }
      ]
    },
    {
      "cell_type": "markdown",
      "source": [
        "###Recommend restaurants based on selected restaurant's corresponding topic"
      ],
      "metadata": {
        "id": "ZxnqXEWVg80S"
      }
    },
    {
      "cell_type": "code",
      "source": [
        "def recommend(selected_restaurant):\n",
        "  topic = restaurant_df[restaurant_df['restaurant_name'] == selected_restaurant]['topic_id'].tolist()[0]\n",
        "  # print(restaurant_df.groupby('topic_id').get_group(topic).sort_values(['ave_rating'], ascending=False)['restaurant_name'])\n",
        "  restaurant_lst = restaurant_df.groupby('topic_id').get_group(topic).sort_values(['ave_rating'], ascending=False)['restaurant_name'].tolist()\n",
        "  restaurant_lst = [r for r in restaurant_lst if r != selected_restaurant]\n",
        "  if len(restaurant_lst) > 5: restaurant_lst = restaurant_lst[:5]\n",
        "  return restaurant_lst"
      ],
      "metadata": {
        "id": "MlXpIRUbhnA0"
      },
      "execution_count": null,
      "outputs": []
    },
    {
      "cell_type": "code",
      "source": [
        "selected_restaurant = '惡犬食堂'\n",
        "recommended_restaurants = recommend(selected_restaurant)\n",
        "print('Top recommended restaurants', '-----', recommended_restaurants, sep='\\n')"
      ],
      "metadata": {
        "colab": {
          "base_uri": "https://localhost:8080/"
        },
        "id": "oM8oh9TJhCyx",
        "outputId": "a1cac004-1d84-41d3-c501-4f7c963d3cdf"
      },
      "execution_count": null,
      "outputs": [
        {
          "output_type": "stream",
          "name": "stdout",
          "text": [
            "Top recommended restaurants\n",
            "-----\n",
            "['大阪燒肉 燒魂Yakikon 大安店', '和牛涮 日式鍋物放題 台北羅斯福店', '和牛涮 日式鍋物放題 台北忠孝東店', '狗一下居食酒屋 忠孝店', '金洹苑 KIN KAN EN']\n"
          ]
        }
      ]
    }
  ],
  "metadata": {
    "accelerator": "GPU",
    "colab": {
      "provenance": [],
      "machine_shape": "hm",
      "include_colab_link": true
    },
    "gpuClass": "standard",
    "kernelspec": {
      "display_name": "Python 3",
      "name": "python3"
    },
    "language_info": {
      "name": "python"
    }
  },
  "nbformat": 4,
  "nbformat_minor": 0
}